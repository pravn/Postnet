{
 "cells": [
  {
   "cell_type": "code",
   "execution_count": 1,
   "metadata": {},
   "outputs": [],
   "source": [
    "import torch\n",
    "import torch.utils.data\n",
    "import torchvision.transforms as transforms\n",
    "import torchvision.datasets as dset\n",
    "from torch.utils.data import Dataset\n",
    "import numpy as np\n",
    "import os"
   ]
  },
  {
   "cell_type": "code",
   "execution_count": 2,
   "metadata": {},
   "outputs": [],
   "source": [
    "%load_ext autoreload\n",
    "%autoreload 2\n"
   ]
  },
  {
   "cell_type": "code",
   "execution_count": 3,
   "metadata": {},
   "outputs": [
    {
     "data": {
      "text/plain": [
       "'/home/praveen/projects/Speech/postnet_experiments/Postnet'"
      ]
     },
     "execution_count": 3,
     "metadata": {},
     "output_type": "execute_result"
    }
   ],
   "source": [
    "pwd"
   ]
  },
  {
   "cell_type": "code",
   "execution_count": 4,
   "metadata": {},
   "outputs": [],
   "source": [
    "class Params:\n",
    "    def __init__(self):\n",
    "        self.batchSize = 32\n",
    "        self.Stage1imageSize = 64\n",
    "        self.Stage2imageSize = 64\n",
    "        self.LAMBDA = 10\n",
    "        self.lr= 0.0002\n",
    "        self.nc = 1\n",
    "        self.nz = 100\n",
    "        self.ngf = 64\n",
    "        self.ndf = 64\n",
    "        #for unet \n",
    "        self.nc_out = 1\n",
    "        self.num_downsample = 4\n",
    "        self.dataroot = '/home/praveen/projects/Speech/postnet_experiments/Postnet/speech_scripts/single_npy_dumps'\n",
    "        self.metadata_dir = self.dataroot\n",
    "        self.workers = 1\n",
    "        self.restart = 'restart'\n",
    "        self.cuda = True\n",
    "        self.beta1 = 0.5\n",
    "opt = Params()"
   ]
  },
  {
   "cell_type": "code",
   "execution_count": 5,
   "metadata": {},
   "outputs": [
    {
     "data": {
      "text/plain": [
       "1"
      ]
     },
     "execution_count": 5,
     "metadata": {},
     "output_type": "execute_result"
    }
   ],
   "source": [
    "opt.nc"
   ]
  },
  {
   "cell_type": "code",
   "execution_count": 6,
   "metadata": {},
   "outputs": [],
   "source": [
    "#Image superresolution [64x64->128x128]\n",
    "#We would like to do supervised training so as to produce 128x128 images from 64x64 \n",
    "#Together with this, we add adversarial terms. This is a rather roundabout way of reimplementing pix2pix maybe"
   ]
  },
  {
   "cell_type": "code",
   "execution_count": 7,
   "metadata": {},
   "outputs": [],
   "source": [
    "#Pull out things from https://github.com/pytorch/vision/tree/master/torchvision/datasets to create \n",
    "#a new dataset class\n",
    "#We want a dataloader that can emit both 64x64 and 128x128 data at the same time with 'enumerate'\n",
    "#Then we make the generator produce 128x128 taking in 64x64 as input which we then train"
   ]
  },
  {
   "cell_type": "code",
   "execution_count": 8,
   "metadata": {},
   "outputs": [],
   "source": [
    "def make_dataset(dir):\n",
    "    import os\n",
    "    images = []\n",
    "    d = os.path.expanduser(dir)\n",
    "    print('d',d)\n",
    "    \n",
    "    if not os.path.exists(dir):\n",
    "        print('path does not exist')\n",
    "\n",
    "    for root, _, fnames in sorted(os.walk(d)):\n",
    "        print('root', root)\n",
    "        for fname in sorted(fnames):\n",
    "            path = os.path.join(root, fname)\n",
    "            images.append(path)\n",
    "    return images"
   ]
  },
  {
   "cell_type": "code",
   "execution_count": 9,
   "metadata": {},
   "outputs": [],
   "source": [
    "def random_crop(source, target, cropsize=64):\n",
    "    width = source.shape[0]\n",
    "    height = source.shape[1]\n",
    "    \n",
    "    j = np.random.randint(width)\n",
    "    i = np.random.randint(height)\n",
    "\n",
    "        \n",
    "    while (j+cropsize//2>width) or (j-cropsize//2<0):\n",
    "        #print(j+cropsize,j-cropsize)\n",
    "        j = np.random.randint(width)\n",
    "        \n",
    "    #print('end j',j)\n",
    "    \n",
    "    jplus = j+cropsize//2\n",
    "    jminus = j-cropsize//2\n",
    "        \n",
    "    while (i+cropsize//2>height) or (i-cropsize//2<0):\n",
    "        #print(i+cropsize,i-cropsize)\n",
    "        i = np.random.randint(height)\n",
    "        \n",
    "    #print('end i', i)\n",
    "    \n",
    "    iplus = i+cropsize//2\n",
    "    iminus = i-cropsize//2\n",
    "        \n",
    "    #print(jminus,jplus,iminus,iplus)\n",
    "    \n",
    "    cropped_source = source[jminus:jplus,iminus:iplus]\n",
    "    cropped_target = target[jminus:jplus,iminus:iplus]\n",
    "    \n",
    "    \n",
    "    return cropped_source, cropped_target\n",
    "    "
   ]
  },
  {
   "cell_type": "code",
   "execution_count": 10,
   "metadata": {},
   "outputs": [],
   "source": [
    "def pad_mels(source, target, padded_width=512,padded_height=128):\n",
    "    padded_source = np.zeros((padded_width,padded_height))\n",
    "    padded_target = np.zeros((padded_width,padded_height))\n",
    "    \n",
    "    width = source.shape[0]\n",
    "    height = source.shape[1]\n",
    "    \n",
    "    padded_source[:width,:height] = source\n",
    "    padded_target[:width,:height] = target\n",
    "    \n",
    "    return padded_source, padded_target\n",
    "    \n",
    "   "
   ]
  },
  {
   "cell_type": "code",
   "execution_count": 11,
   "metadata": {},
   "outputs": [],
   "source": [
    "def normalize(x):\n",
    "    min_x = x.min()\n",
    "    max_x = x.max()\n",
    "\n",
    "    y = 1.0-2.0*(max_x-x)/(max_x-min_x+1)\n",
    "\n",
    "    return y\n",
    "    "
   ]
  },
  {
   "cell_type": "code",
   "execution_count": 12,
   "metadata": {},
   "outputs": [],
   "source": [
    "def get_mels(path,metadata_file):\n",
    "    import os \n",
    "    source = []\n",
    "    target = []\n",
    "    \n",
    "    with open(metadata_file,'r') as metafile:\n",
    "        entries = [entry.split('\\n')[0] for entry in metafile]\n",
    "    metafile.close()\n",
    "    \n",
    "    for file in entries:\n",
    "        src_file = np.load(os.path.join(path,'recon_'+file+'.npy'))\n",
    "        tgt_file = np.load(os.path.join(path,'target_'+file+'.npy'))\n",
    "        \n",
    "        #cropped_src, cropped_tgt = random_crop(src_file,tgt_file)\n",
    "        src_file = normalize(src_file)\n",
    "        tgt_file = normalize(tgt_file)\n",
    "        \n",
    "        padded_src, padded_tgt = pad_mels(src_file,tgt_file)\n",
    "        #padded_src = normalize(padded_src)\n",
    "        #padded_tgt = normalize(padded_tgt)\n",
    "        \n",
    "        source.append(padded_src)\n",
    "        target.append(padded_tgt)\n",
    "        \n",
    "    return source, target\n",
    "    "
   ]
  },
  {
   "cell_type": "code",
   "execution_count": null,
   "metadata": {},
   "outputs": [],
   "source": []
  },
  {
   "cell_type": "code",
   "execution_count": 13,
   "metadata": {},
   "outputs": [],
   "source": [
    "path = os.path.join(opt.dataroot, 'train')\n",
    "metadata_file = os.path.join(opt.metadata_dir,'train.txt')"
   ]
  },
  {
   "cell_type": "code",
   "execution_count": 14,
   "metadata": {},
   "outputs": [],
   "source": [
    "source, target = get_mels(path,metadata_file)"
   ]
  },
  {
   "cell_type": "code",
   "execution_count": 15,
   "metadata": {},
   "outputs": [
    {
     "name": "stdout",
     "output_type": "stream",
     "text": [
      "9500 9500\n"
     ]
    }
   ],
   "source": [
    "print(len(source), len(target))"
   ]
  },
  {
   "cell_type": "code",
   "execution_count": 16,
   "metadata": {},
   "outputs": [
    {
     "data": {
      "text/plain": [
       "(512, 128)"
      ]
     },
     "execution_count": 16,
     "metadata": {},
     "output_type": "execute_result"
    }
   ],
   "source": [
    "source[0].shape"
   ]
  },
  {
   "cell_type": "code",
   "execution_count": 17,
   "metadata": {},
   "outputs": [],
   "source": [
    "def write_image(image,output_file):\n",
    "    import numpy as np\n",
    "    import matplotlib.pyplot as plt\n",
    "    from matplotlib.pyplot import figure\n",
    "    figure(num=None, figsize=(50, 8), dpi=80, facecolor='w', edgecolor='k')\n",
    "    plt.imshow(image,origin='lower')\n",
    "    plt.savefig(output_file)"
   ]
  },
  {
   "cell_type": "code",
   "execution_count": 18,
   "metadata": {},
   "outputs": [],
   "source": [
    "write_image(source[4].T,'src')"
   ]
  },
  {
   "cell_type": "code",
   "execution_count": 19,
   "metadata": {},
   "outputs": [
    {
     "data": {
      "image/png": "[encoded data removed]",
      "text/plain": [
       "<Figure size 4000x640 with 1 Axes>"
      ]
     },
     "metadata": {},
     "output_type": "display_data"
    }
   ],
   "source": [
    "write_image(target[4].T,'tgt')"
   ]
  },
  {
   "cell_type": "code",
   "execution_count": 20,
   "metadata": {},
   "outputs": [],
   "source": [
    "class ImageFolder(Dataset):\n",
    "    \"\"\"A generic data loader where the images are arranged in this way: ::\n",
    "        root/dog/xxx.png\n",
    "        root/dog/xxy.png\n",
    "        root/dog/xxz.png\n",
    "        root/cat/123.png\n",
    "        root/cat/nsdf3.png\n",
    "        root/cat/asd932_.png\n",
    "    Args:\n",
    "        root (string): Root directory path.\n",
    "        transform (callable, optional): A function/transform that  takes in an PIL image\n",
    "            and returns a transformed version. E.g, ``transforms.RandomCrop``\n",
    "        target_transform (callable, optional): A function/transform that takes in the\n",
    "            target and transforms it.\n",
    "        loader (callable, optional): A function to load an image given its path.\n",
    "        is_valid_file (callable, optional): A function that takes path of an Image file\n",
    "            and check if the file is a valid_file (used to check of corrupt files)\n",
    "     Attributes:\n",
    "        classes (list): List of the class names.\n",
    "        class_to_idx (dict): Dict with items (class_name, class_index).\n",
    "        imgs (list): List of (image path, class_index) tuples\n",
    "    \"\"\"\n",
    "\n",
    "    def __init__(self, data_path, metadata_file):\n",
    "        #print('opt.dataroot',opt.dataroot)\n",
    "        self.src_samples, self.tgt_samples = get_mels(data_path,metadata_file)\n",
    "        #self.imgs = self.samples\n",
    "        #self.transformA = transformA\n",
    "        \n",
    "        \n",
    "    def __getitem__(self, index):\n",
    "        \"\"\"\n",
    "        Args:\n",
    "        index (int): Index\n",
    "        Returns:\n",
    "        tuple: (sample, target) where target is class_index of the target class.\n",
    "        \"\"\"\n",
    "        #path = self.samples[index]\n",
    "        #sample = pil_loader(path)\n",
    "        \n",
    "        #if self.transformA is not None:\n",
    "        #sampleA = self.transformA(sample)\n",
    "        \n",
    "        return self.src_samples[index], self.tgt_samples[index]\n",
    "       \n",
    "\n",
    "    def __len__(self):\n",
    "        return len(self.src_samples)\n"
   ]
  },
  {
   "cell_type": "code",
   "execution_count": 21,
   "metadata": {},
   "outputs": [],
   "source": [
    "data_path = os.path.join(opt.dataroot, 'train')\n",
    "metadata_file = os.path.join(opt.metadata_dir,'test.txt')"
   ]
  },
  {
   "cell_type": "code",
   "execution_count": 22,
   "metadata": {},
   "outputs": [],
   "source": [
    "dataset = ImageFolder(data_path,metadata_file)\n",
    "\n",
    "#Now we create a dataloader that dumps out both 64x64 and 128x128 when called with 'enumerate'\n",
    "dataloader = torch.utils.data.DataLoader(dataset, batch_size=opt.batchSize,\n",
    "                                         shuffle=True, num_workers=int(opt.workers))"
   ]
  },
  {
   "cell_type": "code",
   "execution_count": 23,
   "metadata": {},
   "outputs": [
    {
     "name": "stdout",
     "output_type": "stream",
     "text": [
      "0\n",
      "src.size() torch.Size([32, 512, 128])\n",
      "tgt.size() torch.Size([32, 512, 128])\n",
      "1\n",
      "src.size() torch.Size([32, 512, 128])\n",
      "tgt.size() torch.Size([32, 512, 128])\n",
      "2\n",
      "src.size() torch.Size([32, 512, 128])\n",
      "tgt.size() torch.Size([32, 512, 128])\n",
      "3\n",
      "src.size() torch.Size([32, 512, 128])\n",
      "tgt.size() torch.Size([32, 512, 128])\n",
      "4\n",
      "src.size() torch.Size([32, 512, 128])\n",
      "tgt.size() torch.Size([32, 512, 128])\n",
      "5\n",
      "src.size() torch.Size([32, 512, 128])\n",
      "tgt.size() torch.Size([32, 512, 128])\n",
      "6\n",
      "src.size() torch.Size([32, 512, 128])\n",
      "tgt.size() torch.Size([32, 512, 128])\n",
      "7\n",
      "src.size() torch.Size([32, 512, 128])\n",
      "tgt.size() torch.Size([32, 512, 128])\n",
      "8\n",
      "src.size() torch.Size([32, 512, 128])\n",
      "tgt.size() torch.Size([32, 512, 128])\n",
      "9\n",
      "src.size() torch.Size([32, 512, 128])\n",
      "tgt.size() torch.Size([32, 512, 128])\n",
      "10\n",
      "src.size() torch.Size([32, 512, 128])\n",
      "tgt.size() torch.Size([32, 512, 128])\n",
      "11\n",
      "src.size() torch.Size([32, 512, 128])\n",
      "tgt.size() torch.Size([32, 512, 128])\n",
      "12\n",
      "src.size() torch.Size([32, 512, 128])\n",
      "tgt.size() torch.Size([32, 512, 128])\n",
      "13\n",
      "src.size() torch.Size([32, 512, 128])\n",
      "tgt.size() torch.Size([32, 512, 128])\n",
      "14\n",
      "src.size() torch.Size([32, 512, 128])\n",
      "tgt.size() torch.Size([32, 512, 128])\n"
     ]
    }
   ],
   "source": [
    "for i,(src,tgt) in enumerate(dataloader):\n",
    "    print(i)\n",
    "    print('src.size()',src.size())\n",
    "    print('tgt.size()',tgt.size())"
   ]
  },
  {
   "cell_type": "code",
   "execution_count": 24,
   "metadata": {},
   "outputs": [],
   "source": [
    "#dataloaderStage1, dataloaderStage2 = get_data_loaders(opt)"
   ]
  },
  {
   "cell_type": "code",
   "execution_count": 25,
   "metadata": {},
   "outputs": [],
   "source": [
    "#%aimport model\n",
    "#from model import G_Stage1\n",
    "#from model import D_Stage1\n",
    "#from model import G_Stage2\n",
    "#from model import D_Stage2\n",
    "#from model import get_unet_generator\n",
    "from model import UnetGenerator\n",
    "#from model import UnetGenerator\n",
    "#from model import D_Stage2_4x4"
   ]
  },
  {
   "cell_type": "code",
   "execution_count": 26,
   "metadata": {},
   "outputs": [
    {
     "data": {
      "text/plain": [
       "1"
      ]
     },
     "execution_count": 26,
     "metadata": {},
     "output_type": "execute_result"
    }
   ],
   "source": [
    "opt.nc"
   ]
  },
  {
   "cell_type": "code",
   "execution_count": 27,
   "metadata": {},
   "outputs": [
    {
     "name": "stdout",
     "output_type": "stream",
     "text": [
      "1\n"
     ]
    }
   ],
   "source": [
    "#D2 = D_Stage2(opt.nc,opt.ndf)\n",
    "print(opt.nc)\n",
    "G = UnetGenerator(1, 1, 4)\n",
    "\n",
    "if opt.cuda:\n",
    "    #D2 = D2.cuda()\n",
    "    G = G.cuda()"
   ]
  },
  {
   "cell_type": "code",
   "execution_count": 28,
   "metadata": {},
   "outputs": [
    {
     "name": "stdout",
     "output_type": "stream",
     "text": [
      "UnetGenerator(\n",
      "  (model): UnetSkipConnectionBlock(\n",
      "    (model): Sequential(\n",
      "      (0): Conv2d(1, 64, kernel_size=(4, 4), stride=(2, 2), padding=(1, 1), bias=False)\n",
      "      (1): UnetSkipConnectionBlock(\n",
      "        (model): Sequential(\n",
      "          (0): LeakyReLU(negative_slope=0.2, inplace=True)\n",
      "          (1): Conv2d(64, 128, kernel_size=(4, 4), stride=(2, 2), padding=(1, 1), bias=False)\n",
      "          (2): BatchNorm2d(128, eps=1e-05, momentum=0.1, affine=True, track_running_stats=True)\n",
      "          (3): UnetSkipConnectionBlock(\n",
      "            (model): Sequential(\n",
      "              (0): LeakyReLU(negative_slope=0.2, inplace=True)\n",
      "              (1): Conv2d(128, 256, kernel_size=(4, 4), stride=(2, 2), padding=(1, 1), bias=False)\n",
      "              (2): BatchNorm2d(256, eps=1e-05, momentum=0.1, affine=True, track_running_stats=True)\n",
      "              (3): UnetSkipConnectionBlock(\n",
      "                (model): Sequential(\n",
      "                  (0): LeakyReLU(negative_slope=0.2, inplace=True)\n",
      "                  (1): Conv2d(256, 512, kernel_size=(4, 4), stride=(2, 2), padding=(1, 1), bias=False)\n",
      "                  (2): BatchNorm2d(512, eps=1e-05, momentum=0.1, affine=True, track_running_stats=True)\n",
      "                  (3): UnetSkipConnectionBlock(\n",
      "                    (model): Sequential(\n",
      "                      (0): LeakyReLU(negative_slope=0.2, inplace=True)\n",
      "                      (1): Conv2d(512, 512, kernel_size=(4, 4), stride=(2, 2), padding=(1, 1), bias=False)\n",
      "                      (2): ReLU(inplace=True)\n",
      "                      (3): ConvTranspose2d(512, 512, kernel_size=(4, 4), stride=(2, 2), padding=(1, 1), bias=False)\n",
      "                      (4): BatchNorm2d(512, eps=1e-05, momentum=0.1, affine=True, track_running_stats=True)\n",
      "                    )\n",
      "                  )\n",
      "                  (4): ReLU(inplace=True)\n",
      "                  (5): ConvTranspose2d(1024, 256, kernel_size=(4, 4), stride=(2, 2), padding=(1, 1), bias=False)\n",
      "                  (6): BatchNorm2d(256, eps=1e-05, momentum=0.1, affine=True, track_running_stats=True)\n",
      "                )\n",
      "              )\n",
      "              (4): ReLU(inplace=True)\n",
      "              (5): ConvTranspose2d(512, 128, kernel_size=(4, 4), stride=(2, 2), padding=(1, 1), bias=False)\n",
      "              (6): BatchNorm2d(128, eps=1e-05, momentum=0.1, affine=True, track_running_stats=True)\n",
      "            )\n",
      "          )\n",
      "          (4): ReLU(inplace=True)\n",
      "          (5): ConvTranspose2d(256, 64, kernel_size=(4, 4), stride=(2, 2), padding=(1, 1), bias=False)\n",
      "          (6): BatchNorm2d(64, eps=1e-05, momentum=0.1, affine=True, track_running_stats=True)\n",
      "        )\n",
      "      )\n",
      "      (2): ReLU(inplace=True)\n",
      "      (3): ConvTranspose2d(128, 1, kernel_size=(4, 4), stride=(2, 2), padding=(1, 1))\n",
      "      (4): Tanh()\n",
      "    )\n",
      "  )\n",
      ")\n"
     ]
    }
   ],
   "source": [
    "\n",
    "print(G)"
   ]
  },
  {
   "cell_type": "code",
   "execution_count": 29,
   "metadata": {},
   "outputs": [
    {
     "data": {
      "text/plain": [
       "<All keys matched successfully>"
      ]
     },
     "execution_count": 29,
     "metadata": {},
     "output_type": "execute_result"
    }
   ],
   "source": [
    "G.load_state_dict(torch.load('./dumps'+'/postnet_epoch_'+'35'+'.pth'))"
   ]
  },
  {
   "cell_type": "code",
   "execution_count": 30,
   "metadata": {},
   "outputs": [],
   "source": [
    "G = G.cuda()"
   ]
  },
  {
   "cell_type": "code",
   "execution_count": 31,
   "metadata": {},
   "outputs": [
    {
     "name": "stdout",
     "output_type": "stream",
     "text": [
      "torch.Size([512, 128])\n"
     ]
    }
   ],
   "source": [
    "print(src[0].size())"
   ]
  },
  {
   "cell_type": "code",
   "execution_count": 32,
   "metadata": {},
   "outputs": [],
   "source": [
    "s_data = src[3].cuda()"
   ]
  },
  {
   "cell_type": "code",
   "execution_count": 33,
   "metadata": {},
   "outputs": [
    {
     "name": "stdout",
     "output_type": "stream",
     "text": [
      "torch.Size([512, 128])\n"
     ]
    }
   ],
   "source": [
    "print(s_data.size())"
   ]
  },
  {
   "cell_type": "code",
   "execution_count": null,
   "metadata": {},
   "outputs": [],
   "source": [
    "s_data = s_data.unsqueeze(0).unsqueeze(0)"
   ]
  },
  {
   "cell_type": "code",
   "execution_count": null,
   "metadata": {},
   "outputs": [],
   "source": [
    "def run_and_plot(x,G):\n",
    "    x = x.unsqueeze(0).unsqueeze(0)\n",
    "    y=G(x.float())\n",
    "    y = y.squeeze(0).squeeze(0)\n",
    "    y = y.data.cpu().numpy()\n",
    "    write_image(y.T,'recon')\n",
    "    return y"
   ]
  },
  {
   "cell_type": "code",
   "execution_count": null,
   "metadata": {},
   "outputs": [],
   "source": [
    "src[3].shape"
   ]
  },
  {
   "cell_type": "code",
   "execution_count": null,
   "metadata": {},
   "outputs": [],
   "source": [
    "cropped = src[3][:64,:64].cuda()\n",
    "run_and_plot(cropped,G)"
   ]
  },
  {
   "cell_type": "code",
   "execution_count": null,
   "metadata": {},
   "outputs": [],
   "source": [
    "write_image(src[3][:64,:64].T,'_')"
   ]
  },
  {
   "cell_type": "code",
   "execution_count": null,
   "metadata": {},
   "outputs": [],
   "source": [
    "write_image(tgt[3][:64,:64].T,'_')"
   ]
  },
  {
   "cell_type": "code",
   "execution_count": null,
   "metadata": {},
   "outputs": [],
   "source": [
    "write_image(src[0].T,'src')"
   ]
  },
  {
   "cell_type": "code",
   "execution_count": null,
   "metadata": {},
   "outputs": [],
   "source": [
    "write_image(tgt[0].T,'tgt')"
   ]
  },
  {
   "cell_type": "code",
   "execution_count": null,
   "metadata": {},
   "outputs": [],
   "source": [
    "print(y.shape)\n",
    "print(src[0].shape)\n",
    "print(tgt[0].shape)"
   ]
  },
  {
   "cell_type": "code",
   "execution_count": null,
   "metadata": {},
   "outputs": [],
   "source": [
    "s = src[0]\n",
    "t = tgt[0]"
   ]
  },
  {
   "cell_type": "code",
   "execution_count": null,
   "metadata": {},
   "outputs": [],
   "source": [
    "y = y[:,:80]"
   ]
  },
  {
   "cell_type": "code",
   "execution_count": null,
   "metadata": {},
   "outputs": [],
   "source": [
    "s = s[:,:80]\n",
    "t = t[:,:80]"
   ]
  },
  {
   "cell_type": "code",
   "execution_count": null,
   "metadata": {},
   "outputs": [],
   "source": []
  },
  {
   "cell_type": "code",
   "execution_count": null,
   "metadata": {},
   "outputs": [],
   "source": [
    "write_image(y.T,'recon')"
   ]
  },
  {
   "cell_type": "code",
   "execution_count": null,
   "metadata": {},
   "outputs": [],
   "source": [
    "write_image(s.T,'src')\n",
    "write_image(t.T,'tgt')"
   ]
  },
  {
   "cell_type": "code",
   "execution_count": null,
   "metadata": {},
   "outputs": [],
   "source": [
    "def display_image(image):\n",
    "    import numpy as np\n",
    "    import matplotlib.pyplot as plt\n",
    "    from matplotlib.pyplot import figure\n",
    "    figure(num=None, figsize=(4, 6), dpi=80, facecolor='w', edgecolor='k')\n",
    "    plt.imshow(image,origin='lower')\n",
    "    plt.show()"
   ]
  },
  {
   "cell_type": "code",
   "execution_count": null,
   "metadata": {},
   "outputs": [],
   "source": [
    "def write_image(image,output_file):\n",
    "    import numpy as np\n",
    "    import matplotlib.pyplot as plt\n",
    "    from matplotlib.pyplot import figure\n",
    "    figure(num=None, figsize=(50, 8), dpi=80, facecolor='w', edgecolor='k')\n",
    "    plt.imshow(image,origin='lower')\n",
    "    plt.savefig(output_file)"
   ]
  },
  {
   "cell_type": "code",
   "execution_count": null,
   "metadata": {},
   "outputs": [],
   "source": [
    "cout = y.detach().squeeze(0).squeeze(0).cpu().numpy()\n",
    "display_image(cout)"
   ]
  },
  {
   "cell_type": "code",
   "execution_count": null,
   "metadata": {},
   "outputs": [],
   "source": [
    "display_image(cropped_source.T)"
   ]
  },
  {
   "cell_type": "code",
   "execution_count": null,
   "metadata": {},
   "outputs": [],
   "source": [
    "display_image(cropped_target.T)"
   ]
  },
  {
   "cell_type": "code",
   "execution_count": null,
   "metadata": {},
   "outputs": [],
   "source": [
    "display_image(source.T)"
   ]
  },
  {
   "cell_type": "code",
   "execution_count": null,
   "metadata": {},
   "outputs": [],
   "source": [
    "display_image(target.T)"
   ]
  },
  {
   "cell_type": "code",
   "execution_count": null,
   "metadata": {},
   "outputs": [],
   "source": [
    "write_image(source.T,'output_source')"
   ]
  },
  {
   "cell_type": "code",
   "execution_count": null,
   "metadata": {},
   "outputs": [],
   "source": [
    "write_image(target.T,'output_target')"
   ]
  },
  {
   "cell_type": "code",
   "execution_count": null,
   "metadata": {},
   "outputs": [],
   "source": [
    "%aimport train2\n",
    "from train2 import run_trainer2"
   ]
  },
  {
   "cell_type": "code",
   "execution_count": null,
   "metadata": {
    "scrolled": true
   },
   "outputs": [],
   "source": [
    "run_trainer2(dataloader, G2, D2, opt)"
   ]
  },
  {
   "cell_type": "code",
   "execution_count": null,
   "metadata": {},
   "outputs": [],
   "source": [
    "z= torch.randn(1,3,64,512)\n",
    "z = z.cuda()"
   ]
  },
  {
   "cell_type": "code",
   "execution_count": null,
   "metadata": {},
   "outputs": [],
   "source": [
    "zout = G2(z)"
   ]
  },
  {
   "cell_type": "code",
   "execution_count": null,
   "metadata": {},
   "outputs": [],
   "source": [
    "zout.size()"
   ]
  },
  {
   "cell_type": "code",
   "execution_count": null,
   "metadata": {},
   "outputs": [],
   "source": [
    "def plot_mel(mel):\n",
    "    import matplotlib.pyplot as plt\n",
    "    import numpy as np\n",
    "    import librosa.display\n",
    "    import os\n",
    "    plt.figure(figsize=(10, 4))\n",
    "    #librosa.display.specshow(librosa.power_to_db(mel,ref=np.max),\n",
    "    #                         y_axis='mel', fmax=8000, x_axis='time')\n",
    "    librosa.display.specshow(mel,\n",
    "                             y_axis='mel', fmax=8000, x_axis='time',cmap='magma')\n",
    "    #plt.colorbar(format='%+2.0f dB')\n",
    "    plt.title('Mel spectrogram ')\n",
    "    plt.tight_layout()\n",
    "\n",
    "    plt.show()\n",
    "    plt.close()"
   ]
  },
  {
   "cell_type": "code",
   "execution_count": null,
   "metadata": {},
   "outputs": [],
   "source": [
    "plot_mel(source.T)"
   ]
  },
  {
   "cell_type": "code",
   "execution_count": null,
   "metadata": {},
   "outputs": [],
   "source": [
    "plot_mel(target.T)"
   ]
  },
  {
   "cell_type": "code",
   "execution_count": null,
   "metadata": {},
   "outputs": [],
   "source": []
  }
 ],
 "metadata": {
  "kernelspec": {
   "display_name": "Python 3",
   "language": "python",
   "name": "python3"
  },
  "language_info": {
   "codemirror_mode": {
    "name": "ipython",
    "version": 3
   },
   "file_extension": ".py",
   "mimetype": "text/x-python",
   "name": "python",
   "nbconvert_exporter": "python",
   "pygments_lexer": "ipython3",
   "version": "3.7.3"
  }
 },
 "nbformat": 4,
 "nbformat_minor": 2
}
